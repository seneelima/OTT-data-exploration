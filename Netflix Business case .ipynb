{
 "cells": [
  {
   "cell_type": "markdown",
   "id": "dcb51e81",
   "metadata": {},
   "source": [
    "# Netflix Business Case \n",
    "##Data Exploration and Visualisation \n"
   ]
  },
  {
   "cell_type": "markdown",
   "id": "c9935e9e",
   "metadata": {},
   "source": [
 
   ]
  },
  {
   "cell_type": "markdown",
   "id": "9cf8ae6a",
   "metadata": {},
   "source": [
    "Business problem: Netflix wants to understand production of which type of movies/TV shows needs to be produced to grow their business in different countries.\n",
    "\n",
    "Introduction: To analyse the given data set and generate insights for better understanding, we import necessary libraries for Data Analysis and Visualisation\n",
    "\n"
   ]
  },
  {
   "cell_type": "code",
   "execution_count": 1,
   "id": "1df7aad7",
   "metadata": {},
   "outputs": [],
   "source": [
    "#Importing the required Python libraries for Data Analysis and visualisation\n",
    "import pandas as pd\n",
    "import numpy as np\n",
    "import matplotlib.pyplot as plt\n",
    "import seaborn as sns"
   ]
  },
  {
   "cell_type": "markdown",
   "id": "d4c02d20",
   "metadata": {},
   "source": [
    "Importing the dataset and reading using Pandas"
   ]
  },
  {
   "cell_type": "code",
   "execution_count": 2,
   "id": "48425f28",
   "metadata": {},
   "outputs": [],
   "source": [
    "df = pd.read_csv('https://d2beiqkhq929f0.cloudfront.net/public_assets/assets/000/000/940/original/netflix.csv')"
   ]
  },
  {
   "cell_type": "code",
   "execution_count": 3,
   "id": "89b558b3",
   "metadata": {},
   "outputs": [
    {
     "data": {
      "text/html": [
       "<div>\n",
       "<style scoped>\n",
       "    .dataframe tbody tr th:only-of-type {\n",
       "        vertical-align: middle;\n",
       "    }\n",
       "\n",
       "    .dataframe tbody tr th {\n",
       "        vertical-align: top;\n",
       "    }\n",
       "\n",
       "    .dataframe thead th {\n",
       "        text-align: right;\n",
       "    }\n",
       "</style>\n",
       "<table border=\"1\" class=\"dataframe\">\n",
       "  <thead>\n",
       "    <tr style=\"text-align: right;\">\n",
       "      <th></th>\n",
       "      <th>show_id</th>\n",
       "      <th>type</th>\n",
       "      <th>title</th>\n",
       "      <th>director</th>\n",
       "      <th>cast</th>\n",
       "      <th>country</th>\n",
       "      <th>date_added</th>\n",
       "      <th>release_year</th>\n",
       "      <th>rating</th>\n",
       "      <th>duration</th>\n",
       "      <th>listed_in</th>\n",
       "      <th>description</th>\n",
       "    </tr>\n",
       "  </thead>\n",
       "  <tbody>\n",
       "    <tr>\n",
       "      <th>0</th>\n",
       "      <td>s1</td>\n",
       "      <td>Movie</td>\n",
       "      <td>Dick Johnson Is Dead</td>\n",
       "      <td>Kirsten Johnson</td>\n",
       "      <td>NaN</td>\n",
       "      <td>United States</td>\n",
       "      <td>September 25, 2021</td>\n",
       "      <td>2020</td>\n",
       "      <td>PG-13</td>\n",
       "      <td>90 min</td>\n",
       "      <td>Documentaries</td>\n",
       "      <td>As her father nears the end of his life, filmm...</td>\n",
       "    </tr>\n",
       "    <tr>\n",
       "      <th>1</th>\n",
       "      <td>s2</td>\n",
       "      <td>TV Show</td>\n",
       "      <td>Blood &amp; Water</td>\n",
       "      <td>NaN</td>\n",
       "      <td>Ama Qamata, Khosi Ngema, Gail Mabalane, Thaban...</td>\n",
       "      <td>South Africa</td>\n",
       "      <td>September 24, 2021</td>\n",
       "      <td>2021</td>\n",
       "      <td>TV-MA</td>\n",
       "      <td>2 Seasons</td>\n",
       "      <td>International TV Shows, TV Dramas, TV Mysteries</td>\n",
       "      <td>After crossing paths at a party, a Cape Town t...</td>\n",
       "    </tr>\n",
       "    <tr>\n",
       "      <th>2</th>\n",
       "      <td>s3</td>\n",
       "      <td>TV Show</td>\n",
       "      <td>Ganglands</td>\n",
       "      <td>Julien Leclercq</td>\n",
       "      <td>Sami Bouajila, Tracy Gotoas, Samuel Jouy, Nabi...</td>\n",
       "      <td>NaN</td>\n",
       "      <td>September 24, 2021</td>\n",
       "      <td>2021</td>\n",
       "      <td>TV-MA</td>\n",
       "      <td>1 Season</td>\n",
       "      <td>Crime TV Shows, International TV Shows, TV Act...</td>\n",
       "      <td>To protect his family from a powerful drug lor...</td>\n",
       "    </tr>\n",
       "    <tr>\n",
       "      <th>3</th>\n",
       "      <td>s4</td>\n",
       "      <td>TV Show</td>\n",
       "      <td>Jailbirds New Orleans</td>\n",
       "      <td>NaN</td>\n",
       "      <td>NaN</td>\n",
       "      <td>NaN</td>\n",
       "      <td>September 24, 2021</td>\n",
       "      <td>2021</td>\n",
       "      <td>TV-MA</td>\n",
       "      <td>1 Season</td>\n",
       "      <td>Docuseries, Reality TV</td>\n",
       "      <td>Feuds, flirtations and toilet talk go down amo...</td>\n",
       "    </tr>\n",
       "    <tr>\n",
       "      <th>4</th>\n",
       "      <td>s5</td>\n",
       "      <td>TV Show</td>\n",
       "      <td>Kota Factory</td>\n",
       "      <td>NaN</td>\n",
       "      <td>Mayur More, Jitendra Kumar, Ranjan Raj, Alam K...</td>\n",
       "      <td>India</td>\n",
       "      <td>September 24, 2021</td>\n",
       "      <td>2021</td>\n",
       "      <td>TV-MA</td>\n",
       "      <td>2 Seasons</td>\n",
       "      <td>International TV Shows, Romantic TV Shows, TV ...</td>\n",
       "      <td>In a city of coaching centers known to train I...</td>\n",
       "    </tr>\n",
       "    <tr>\n",
       "      <th>...</th>\n",
       "      <td>...</td>\n",
       "      <td>...</td>\n",
       "      <td>...</td>\n",
       "      <td>...</td>\n",
       "      <td>...</td>\n",
       "      <td>...</td>\n",
       "      <td>...</td>\n",
       "      <td>...</td>\n",
       "      <td>...</td>\n",
       "      <td>...</td>\n",
       "      <td>...</td>\n",
       "      <td>...</td>\n",
       "    </tr>\n",
       "    <tr>\n",
       "      <th>8802</th>\n",
       "      <td>s8803</td>\n",
       "      <td>Movie</td>\n",
       "      <td>Zodiac</td>\n",
       "      <td>David Fincher</td>\n",
       "      <td>Mark Ruffalo, Jake Gyllenhaal, Robert Downey J...</td>\n",
       "      <td>United States</td>\n",
       "      <td>November 20, 2019</td>\n",
       "      <td>2007</td>\n",
       "      <td>R</td>\n",
       "      <td>158 min</td>\n",
       "      <td>Cult Movies, Dramas, Thrillers</td>\n",
       "      <td>A political cartoonist, a crime reporter and a...</td>\n",
       "    </tr>\n",
       "    <tr>\n",
       "      <th>8803</th>\n",
       "      <td>s8804</td>\n",
       "      <td>TV Show</td>\n",
       "      <td>Zombie Dumb</td>\n",
       "      <td>NaN</td>\n",
       "      <td>NaN</td>\n",
       "      <td>NaN</td>\n",
       "      <td>July 1, 2019</td>\n",
       "      <td>2018</td>\n",
       "      <td>TV-Y7</td>\n",
       "      <td>2 Seasons</td>\n",
       "      <td>Kids' TV, Korean TV Shows, TV Comedies</td>\n",
       "      <td>While living alone in a spooky town, a young g...</td>\n",
       "    </tr>\n",
       "    <tr>\n",
       "      <th>8804</th>\n",
       "      <td>s8805</td>\n",
       "      <td>Movie</td>\n",
       "      <td>Zombieland</td>\n",
       "      <td>Ruben Fleischer</td>\n",
       "      <td>Jesse Eisenberg, Woody Harrelson, Emma Stone, ...</td>\n",
       "      <td>United States</td>\n",
       "      <td>November 1, 2019</td>\n",
       "      <td>2009</td>\n",
       "      <td>R</td>\n",
       "      <td>88 min</td>\n",
       "      <td>Comedies, Horror Movies</td>\n",
       "      <td>Looking to survive in a world taken over by zo...</td>\n",
       "    </tr>\n",
       "    <tr>\n",
       "      <th>8805</th>\n",
       "      <td>s8806</td>\n",
       "      <td>Movie</td>\n",
       "      <td>Zoom</td>\n",
       "      <td>Peter Hewitt</td>\n",
       "      <td>Tim Allen, Courteney Cox, Chevy Chase, Kate Ma...</td>\n",
       "      <td>United States</td>\n",
       "      <td>January 11, 2020</td>\n",
       "      <td>2006</td>\n",
       "      <td>PG</td>\n",
       "      <td>88 min</td>\n",
       "      <td>Children &amp; Family Movies, Comedies</td>\n",
       "      <td>Dragged from civilian life, a former superhero...</td>\n",
       "    </tr>\n",
       "    <tr>\n",
       "      <th>8806</th>\n",
       "      <td>s8807</td>\n",
       "      <td>Movie</td>\n",
       "      <td>Zubaan</td>\n",
       "      <td>Mozez Singh</td>\n",
       "      <td>Vicky Kaushal, Sarah-Jane Dias, Raaghav Chanan...</td>\n",
       "      <td>India</td>\n",
       "      <td>March 2, 2019</td>\n",
       "      <td>2015</td>\n",
       "      <td>TV-14</td>\n",
       "      <td>111 min</td>\n",
       "      <td>Dramas, International Movies, Music &amp; Musicals</td>\n",
       "      <td>A scrappy but poor boy worms his way into a ty...</td>\n",
       "    </tr>\n",
       "  </tbody>\n",
       "</table>\n",
       "<p>8807 rows × 12 columns</p>\n",
       "</div>"
      ],
      "text/plain": [
       "     show_id     type                  title         director  \\\n",
       "0         s1    Movie   Dick Johnson Is Dead  Kirsten Johnson   \n",
       "1         s2  TV Show          Blood & Water              NaN   \n",
       "2         s3  TV Show              Ganglands  Julien Leclercq   \n",
       "3         s4  TV Show  Jailbirds New Orleans              NaN   \n",
       "4         s5  TV Show           Kota Factory              NaN   \n",
       "...      ...      ...                    ...              ...   \n",
       "8802   s8803    Movie                 Zodiac    David Fincher   \n",
       "8803   s8804  TV Show            Zombie Dumb              NaN   \n",
       "8804   s8805    Movie             Zombieland  Ruben Fleischer   \n",
       "8805   s8806    Movie                   Zoom     Peter Hewitt   \n",
       "8806   s8807    Movie                 Zubaan      Mozez Singh   \n",
       "\n",
       "                                                   cast        country  \\\n",
       "0                                                   NaN  United States   \n",
       "1     Ama Qamata, Khosi Ngema, Gail Mabalane, Thaban...   South Africa   \n",
       "2     Sami Bouajila, Tracy Gotoas, Samuel Jouy, Nabi...            NaN   \n",
       "3                                                   NaN            NaN   \n",
       "4     Mayur More, Jitendra Kumar, Ranjan Raj, Alam K...          India   \n",
       "...                                                 ...            ...   \n",
       "8802  Mark Ruffalo, Jake Gyllenhaal, Robert Downey J...  United States   \n",
       "8803                                                NaN            NaN   \n",
       "8804  Jesse Eisenberg, Woody Harrelson, Emma Stone, ...  United States   \n",
       "8805  Tim Allen, Courteney Cox, Chevy Chase, Kate Ma...  United States   \n",
       "8806  Vicky Kaushal, Sarah-Jane Dias, Raaghav Chanan...          India   \n",
       "\n",
       "              date_added  release_year rating   duration  \\\n",
       "0     September 25, 2021          2020  PG-13     90 min   \n",
       "1     September 24, 2021          2021  TV-MA  2 Seasons   \n",
       "2     September 24, 2021          2021  TV-MA   1 Season   \n",
       "3     September 24, 2021          2021  TV-MA   1 Season   \n",
       "4     September 24, 2021          2021  TV-MA  2 Seasons   \n",
       "...                  ...           ...    ...        ...   \n",
       "8802   November 20, 2019          2007      R    158 min   \n",
       "8803        July 1, 2019          2018  TV-Y7  2 Seasons   \n",
       "8804    November 1, 2019          2009      R     88 min   \n",
       "8805    January 11, 2020          2006     PG     88 min   \n",
       "8806       March 2, 2019          2015  TV-14    111 min   \n",
       "\n",
       "                                              listed_in  \\\n",
       "0                                         Documentaries   \n",
       "1       International TV Shows, TV Dramas, TV Mysteries   \n",
       "2     Crime TV Shows, International TV Shows, TV Act...   \n",
       "3                                Docuseries, Reality TV   \n",
       "4     International TV Shows, Romantic TV Shows, TV ...   \n",
       "...                                                 ...   \n",
       "8802                     Cult Movies, Dramas, Thrillers   \n",
       "8803             Kids' TV, Korean TV Shows, TV Comedies   \n",
       "8804                            Comedies, Horror Movies   \n",
       "8805                 Children & Family Movies, Comedies   \n",
       "8806     Dramas, International Movies, Music & Musicals   \n",
       "\n",
       "                                            description  \n",
       "0     As her father nears the end of his life, filmm...  \n",
       "1     After crossing paths at a party, a Cape Town t...  \n",
       "2     To protect his family from a powerful drug lor...  \n",
       "3     Feuds, flirtations and toilet talk go down amo...  \n",
       "4     In a city of coaching centers known to train I...  \n",
       "...                                                 ...  \n",
       "8802  A political cartoonist, a crime reporter and a...  \n",
       "8803  While living alone in a spooky town, a young g...  \n",
       "8804  Looking to survive in a world taken over by zo...  \n",
       "8805  Dragged from civilian life, a former superhero...  \n",
       "8806  A scrappy but poor boy worms his way into a ty...  \n",
       "\n",
       "[8807 rows x 12 columns]"
      ]
     },
     "execution_count": 3,
     "metadata": {},
     "output_type": "execute_result"
    }
   ],
   "source": [
    "df"
   ]
  },
  {
   "cell_type": "markdown",
   "id": "992fa32a",
   "metadata": {},
   "source": [
    "To understand the overall characteristics of the data set we use Descriptive Statistics . We can gain insights into the numerical attributes such as count, mean, standard deviation,min,max and quartiles for numerical values."
   ]
  },
  {
   "cell_type": "code",
   "execution_count": 4,
   "id": "e6048ac9",
   "metadata": {},
   "outputs": [
    {
     "data": {
      "text/html": [
       "<div>\n",
       "<style scoped>\n",
       "    .dataframe tbody tr th:only-of-type {\n",
       "        vertical-align: middle;\n",
       "    }\n",
       "\n",
       "    .dataframe tbody tr th {\n",
       "        vertical-align: top;\n",
       "    }\n",
       "\n",
       "    .dataframe thead th {\n",
       "        text-align: right;\n",
       "    }\n",
       "</style>\n",
       "<table border=\"1\" class=\"dataframe\">\n",
       "  <thead>\n",
       "    <tr style=\"text-align: right;\">\n",
       "      <th></th>\n",
       "      <th>release_year</th>\n",
       "    </tr>\n",
       "  </thead>\n",
       "  <tbody>\n",
       "    <tr>\n",
       "      <th>count</th>\n",
       "      <td>8807.000000</td>\n",
       "    </tr>\n",
       "    <tr>\n",
       "      <th>mean</th>\n",
       "      <td>2014.180198</td>\n",
       "    </tr>\n",
       "    <tr>\n",
       "      <th>std</th>\n",
       "      <td>8.819312</td>\n",
       "    </tr>\n",
       "    <tr>\n",
       "      <th>min</th>\n",
       "      <td>1925.000000</td>\n",
       "    </tr>\n",
       "    <tr>\n",
       "      <th>25%</th>\n",
       "      <td>2013.000000</td>\n",
       "    </tr>\n",
       "    <tr>\n",
       "      <th>50%</th>\n",
       "      <td>2017.000000</td>\n",
       "    </tr>\n",
       "    <tr>\n",
       "      <th>75%</th>\n",
       "      <td>2019.000000</td>\n",
       "    </tr>\n",
       "    <tr>\n",
       "      <th>max</th>\n",
       "      <td>2021.000000</td>\n",
       "    </tr>\n",
       "  </tbody>\n",
       "</table>\n",
       "</div>"
      ],
      "text/plain": [
       "       release_year\n",
       "count   8807.000000\n",
       "mean    2014.180198\n",
       "std        8.819312\n",
       "min     1925.000000\n",
       "25%     2013.000000\n",
       "50%     2017.000000\n",
       "75%     2019.000000\n",
       "max     2021.000000"
      ]
     },
     "execution_count": 4,
     "metadata": {},
     "output_type": "execute_result"
    }
   ],
   "source": [
    "df.describe()"
   ]
  },
  {
   "cell_type": "markdown",
   "id": "f21cce72",
   "metadata": {},
   "source": [
    "Concise summary helps to identify missing values and potential issues with data types"
   ]
  },
  {
   "cell_type": "code",
   "execution_count": 5,
   "id": "56542f2f",
   "metadata": {},
   "outputs": [
    {
     "name": "stdout",
     "output_type": "stream",
     "text": [
      "<class 'pandas.core.frame.DataFrame'>\n",
      "RangeIndex: 8807 entries, 0 to 8806\n",
      "Data columns (total 12 columns):\n",
      " #   Column        Non-Null Count  Dtype \n",
      "---  ------        --------------  ----- \n",
      " 0   show_id       8807 non-null   object\n",
      " 1   type          8807 non-null   object\n",
      " 2   title         8807 non-null   object\n",
      " 3   director      6173 non-null   object\n",
      " 4   cast          7982 non-null   object\n",
      " 5   country       7976 non-null   object\n",
      " 6   date_added    8797 non-null   object\n",
      " 7   release_year  8807 non-null   int64 \n",
      " 8   rating        8803 non-null   object\n",
      " 9   duration      8804 non-null   object\n",
      " 10  listed_in     8807 non-null   object\n",
      " 11  description   8807 non-null   object\n",
      "dtypes: int64(1), object(11)\n",
      "memory usage: 825.8+ KB\n"
     ]
    }
   ],
   "source": [
    "df.info()"
   ]
  },
  {
   "cell_type": "markdown",
   "id": "1ab9ffb6",
   "metadata": {},
   "source": [
    "### Inspecting the data"
   ]
  },
  {
   "cell_type": "code",
   "execution_count": 6,
   "id": "9b05d3d5",
   "metadata": {
    "scrolled": true
   },
   "outputs": [
    {
     "data": {
      "text/html": [
       "<div>\n",
       "<style scoped>\n",
       "    .dataframe tbody tr th:only-of-type {\n",
       "        vertical-align: middle;\n",
       "    }\n",
       "\n",
       "    .dataframe tbody tr th {\n",
       "        vertical-align: top;\n",
       "    }\n",
       "\n",
       "    .dataframe thead th {\n",
       "        text-align: right;\n",
       "    }\n",
       "</style>\n",
       "<table border=\"1\" class=\"dataframe\">\n",
       "  <thead>\n",
       "    <tr style=\"text-align: right;\">\n",
       "      <th></th>\n",
       "      <th>show_id</th>\n",
       "      <th>type</th>\n",
       "      <th>title</th>\n",
       "      <th>director</th>\n",
       "      <th>cast</th>\n",
       "      <th>country</th>\n",
       "      <th>date_added</th>\n",
       "      <th>release_year</th>\n",
       "      <th>rating</th>\n",
       "      <th>duration</th>\n",
       "      <th>listed_in</th>\n",
       "      <th>description</th>\n",
       "    </tr>\n",
       "  </thead>\n",
       "  <tbody>\n",
       "    <tr>\n",
       "      <th>0</th>\n",
       "      <td>s1</td>\n",
       "      <td>Movie</td>\n",
       "      <td>Dick Johnson Is Dead</td>\n",
       "      <td>Kirsten Johnson</td>\n",
       "      <td>NaN</td>\n",
       "      <td>United States</td>\n",
       "      <td>September 25, 2021</td>\n",
       "      <td>2020</td>\n",
       "      <td>PG-13</td>\n",
       "      <td>90 min</td>\n",
       "      <td>Documentaries</td>\n",
       "      <td>As her father nears the end of his life, filmm...</td>\n",
       "    </tr>\n",
       "    <tr>\n",
       "      <th>1</th>\n",
       "      <td>s2</td>\n",
       "      <td>TV Show</td>\n",
       "      <td>Blood &amp; Water</td>\n",
       "      <td>NaN</td>\n",
       "      <td>Ama Qamata, Khosi Ngema, Gail Mabalane, Thaban...</td>\n",
       "      <td>South Africa</td>\n",
       "      <td>September 24, 2021</td>\n",
       "      <td>2021</td>\n",
       "      <td>TV-MA</td>\n",
       "      <td>2 Seasons</td>\n",
       "      <td>International TV Shows, TV Dramas, TV Mysteries</td>\n",
       "      <td>After crossing paths at a party, a Cape Town t...</td>\n",
       "    </tr>\n",
       "    <tr>\n",
       "      <th>2</th>\n",
       "      <td>s3</td>\n",
       "      <td>TV Show</td>\n",
       "      <td>Ganglands</td>\n",
       "      <td>Julien Leclercq</td>\n",
       "      <td>Sami Bouajila, Tracy Gotoas, Samuel Jouy, Nabi...</td>\n",
       "      <td>NaN</td>\n",
       "      <td>September 24, 2021</td>\n",
       "      <td>2021</td>\n",
       "      <td>TV-MA</td>\n",
       "      <td>1 Season</td>\n",
       "      <td>Crime TV Shows, International TV Shows, TV Act...</td>\n",
       "      <td>To protect his family from a powerful drug lor...</td>\n",
       "    </tr>\n",
       "    <tr>\n",
       "      <th>3</th>\n",
       "      <td>s4</td>\n",
       "      <td>TV Show</td>\n",
       "      <td>Jailbirds New Orleans</td>\n",
       "      <td>NaN</td>\n",
       "      <td>NaN</td>\n",
       "      <td>NaN</td>\n",
       "      <td>September 24, 2021</td>\n",
       "      <td>2021</td>\n",
       "      <td>TV-MA</td>\n",
       "      <td>1 Season</td>\n",
       "      <td>Docuseries, Reality TV</td>\n",
       "      <td>Feuds, flirtations and toilet talk go down amo...</td>\n",
       "    </tr>\n",
       "    <tr>\n",
       "      <th>4</th>\n",
       "      <td>s5</td>\n",
       "      <td>TV Show</td>\n",
       "      <td>Kota Factory</td>\n",
       "      <td>NaN</td>\n",
       "      <td>Mayur More, Jitendra Kumar, Ranjan Raj, Alam K...</td>\n",
       "      <td>India</td>\n",
       "      <td>September 24, 2021</td>\n",
       "      <td>2021</td>\n",
       "      <td>TV-MA</td>\n",
       "      <td>2 Seasons</td>\n",
       "      <td>International TV Shows, Romantic TV Shows, TV ...</td>\n",
       "      <td>In a city of coaching centers known to train I...</td>\n",
       "    </tr>\n",
       "  </tbody>\n",
       "</table>\n",
       "</div>"
      ],
      "text/plain": [
       "  show_id     type                  title         director  \\\n",
       "0      s1    Movie   Dick Johnson Is Dead  Kirsten Johnson   \n",
       "1      s2  TV Show          Blood & Water              NaN   \n",
       "2      s3  TV Show              Ganglands  Julien Leclercq   \n",
       "3      s4  TV Show  Jailbirds New Orleans              NaN   \n",
       "4      s5  TV Show           Kota Factory              NaN   \n",
       "\n",
       "                                                cast        country  \\\n",
       "0                                                NaN  United States   \n",
       "1  Ama Qamata, Khosi Ngema, Gail Mabalane, Thaban...   South Africa   \n",
       "2  Sami Bouajila, Tracy Gotoas, Samuel Jouy, Nabi...            NaN   \n",
       "3                                                NaN            NaN   \n",
       "4  Mayur More, Jitendra Kumar, Ranjan Raj, Alam K...          India   \n",
       "\n",
       "           date_added  release_year rating   duration  \\\n",
       "0  September 25, 2021          2020  PG-13     90 min   \n",
       "1  September 24, 2021          2021  TV-MA  2 Seasons   \n",
       "2  September 24, 2021          2021  TV-MA   1 Season   \n",
       "3  September 24, 2021          2021  TV-MA   1 Season   \n",
       "4  September 24, 2021          2021  TV-MA  2 Seasons   \n",
       "\n",
       "                                           listed_in  \\\n",
       "0                                      Documentaries   \n",
       "1    International TV Shows, TV Dramas, TV Mysteries   \n",
       "2  Crime TV Shows, International TV Shows, TV Act...   \n",
       "3                             Docuseries, Reality TV   \n",
       "4  International TV Shows, Romantic TV Shows, TV ...   \n",
       "\n",
       "                                         description  \n",
       "0  As her father nears the end of his life, filmm...  \n",
       "1  After crossing paths at a party, a Cape Town t...  \n",
       "2  To protect his family from a powerful drug lor...  \n",
       "3  Feuds, flirtations and toilet talk go down amo...  \n",
       "4  In a city of coaching centers known to train I...  "
      ]
     },
     "execution_count": 6,
     "metadata": {},
     "output_type": "execute_result"
    }
   ],
   "source": [
    "# First 10 rows of the data frame\n",
    "df.head()"
   ]
  },
  {
   "cell_type": "code",
   "execution_count": 7,
   "id": "46626034",
   "metadata": {
    "scrolled": true
   },
   "outputs": [
    {
     "data": {
      "text/html": [
       "<div>\n",
       "<style scoped>\n",
       "    .dataframe tbody tr th:only-of-type {\n",
       "        vertical-align: middle;\n",
       "    }\n",
       "\n",
       "    .dataframe tbody tr th {\n",
       "        vertical-align: top;\n",
       "    }\n",
       "\n",
       "    .dataframe thead th {\n",
       "        text-align: right;\n",
       "    }\n",
       "</style>\n",
       "<table border=\"1\" class=\"dataframe\">\n",
       "  <thead>\n",
       "    <tr style=\"text-align: right;\">\n",
       "      <th></th>\n",
       "      <th>show_id</th>\n",
       "      <th>type</th>\n",
       "      <th>title</th>\n",
       "      <th>director</th>\n",
       "      <th>cast</th>\n",
       "      <th>country</th>\n",
       "      <th>date_added</th>\n",
       "      <th>release_year</th>\n",
       "      <th>rating</th>\n",
       "      <th>duration</th>\n",
       "      <th>listed_in</th>\n",
       "      <th>description</th>\n",
       "    </tr>\n",
       "  </thead>\n",
       "  <tbody>\n",
       "    <tr>\n",
       "      <th>8802</th>\n",
       "      <td>s8803</td>\n",
       "      <td>Movie</td>\n",
       "      <td>Zodiac</td>\n",
       "      <td>David Fincher</td>\n",
       "      <td>Mark Ruffalo, Jake Gyllenhaal, Robert Downey J...</td>\n",
       "      <td>United States</td>\n",
       "      <td>November 20, 2019</td>\n",
       "      <td>2007</td>\n",
       "      <td>R</td>\n",
       "      <td>158 min</td>\n",
       "      <td>Cult Movies, Dramas, Thrillers</td>\n",
       "      <td>A political cartoonist, a crime reporter and a...</td>\n",
       "    </tr>\n",
       "    <tr>\n",
       "      <th>8803</th>\n",
       "      <td>s8804</td>\n",
       "      <td>TV Show</td>\n",
       "      <td>Zombie Dumb</td>\n",
       "      <td>NaN</td>\n",
       "      <td>NaN</td>\n",
       "      <td>NaN</td>\n",
       "      <td>July 1, 2019</td>\n",
       "      <td>2018</td>\n",
       "      <td>TV-Y7</td>\n",
       "      <td>2 Seasons</td>\n",
       "      <td>Kids' TV, Korean TV Shows, TV Comedies</td>\n",
       "      <td>While living alone in a spooky town, a young g...</td>\n",
       "    </tr>\n",
       "    <tr>\n",
       "      <th>8804</th>\n",
       "      <td>s8805</td>\n",
       "      <td>Movie</td>\n",
       "      <td>Zombieland</td>\n",
       "      <td>Ruben Fleischer</td>\n",
       "      <td>Jesse Eisenberg, Woody Harrelson, Emma Stone, ...</td>\n",
       "      <td>United States</td>\n",
       "      <td>November 1, 2019</td>\n",
       "      <td>2009</td>\n",
       "      <td>R</td>\n",
       "      <td>88 min</td>\n",
       "      <td>Comedies, Horror Movies</td>\n",
       "      <td>Looking to survive in a world taken over by zo...</td>\n",
       "    </tr>\n",
       "    <tr>\n",
       "      <th>8805</th>\n",
       "      <td>s8806</td>\n",
       "      <td>Movie</td>\n",
       "      <td>Zoom</td>\n",
       "      <td>Peter Hewitt</td>\n",
       "      <td>Tim Allen, Courteney Cox, Chevy Chase, Kate Ma...</td>\n",
       "      <td>United States</td>\n",
       "      <td>January 11, 2020</td>\n",
       "      <td>2006</td>\n",
       "      <td>PG</td>\n",
       "      <td>88 min</td>\n",
       "      <td>Children &amp; Family Movies, Comedies</td>\n",
       "      <td>Dragged from civilian life, a former superhero...</td>\n",
       "    </tr>\n",
       "    <tr>\n",
       "      <th>8806</th>\n",
       "      <td>s8807</td>\n",
       "      <td>Movie</td>\n",
       "      <td>Zubaan</td>\n",
       "      <td>Mozez Singh</td>\n",
       "      <td>Vicky Kaushal, Sarah-Jane Dias, Raaghav Chanan...</td>\n",
       "      <td>India</td>\n",
       "      <td>March 2, 2019</td>\n",
       "      <td>2015</td>\n",
       "      <td>TV-14</td>\n",
       "      <td>111 min</td>\n",
       "      <td>Dramas, International Movies, Music &amp; Musicals</td>\n",
       "      <td>A scrappy but poor boy worms his way into a ty...</td>\n",
       "    </tr>\n",
       "  </tbody>\n",
       "</table>\n",
       "</div>"
      ],
      "text/plain": [
       "     show_id     type        title         director  \\\n",
       "8802   s8803    Movie       Zodiac    David Fincher   \n",
       "8803   s8804  TV Show  Zombie Dumb              NaN   \n",
       "8804   s8805    Movie   Zombieland  Ruben Fleischer   \n",
       "8805   s8806    Movie         Zoom     Peter Hewitt   \n",
       "8806   s8807    Movie       Zubaan      Mozez Singh   \n",
       "\n",
       "                                                   cast        country  \\\n",
       "8802  Mark Ruffalo, Jake Gyllenhaal, Robert Downey J...  United States   \n",
       "8803                                                NaN            NaN   \n",
       "8804  Jesse Eisenberg, Woody Harrelson, Emma Stone, ...  United States   \n",
       "8805  Tim Allen, Courteney Cox, Chevy Chase, Kate Ma...  United States   \n",
       "8806  Vicky Kaushal, Sarah-Jane Dias, Raaghav Chanan...          India   \n",
       "\n",
       "             date_added  release_year rating   duration  \\\n",
       "8802  November 20, 2019          2007      R    158 min   \n",
       "8803       July 1, 2019          2018  TV-Y7  2 Seasons   \n",
       "8804   November 1, 2019          2009      R     88 min   \n",
       "8805   January 11, 2020          2006     PG     88 min   \n",
       "8806      March 2, 2019          2015  TV-14    111 min   \n",
       "\n",
       "                                           listed_in  \\\n",
       "8802                  Cult Movies, Dramas, Thrillers   \n",
       "8803          Kids' TV, Korean TV Shows, TV Comedies   \n",
       "8804                         Comedies, Horror Movies   \n",
       "8805              Children & Family Movies, Comedies   \n",
       "8806  Dramas, International Movies, Music & Musicals   \n",
       "\n",
       "                                            description  \n",
       "8802  A political cartoonist, a crime reporter and a...  \n",
       "8803  While living alone in a spooky town, a young g...  \n",
       "8804  Looking to survive in a world taken over by zo...  \n",
       "8805  Dragged from civilian life, a former superhero...  \n",
       "8806  A scrappy but poor boy worms his way into a ty...  "
      ]
     },
     "execution_count": 7,
     "metadata": {},
     "output_type": "execute_result"
    }
   ],
   "source": [
    "#Last 10 rows of the data set\n",
    "df.tail()\n"
   ]
  },
  {
   "cell_type": "code",
   "execution_count": 8,
   "id": "a1ec0283",
   "metadata": {},
   "outputs": [
    {
     "data": {
      "text/plain": [
       "(8807, 12)"
      ]
     },
     "execution_count": 8,
     "metadata": {},
     "output_type": "execute_result"
    }
   ],
   "source": [
    "# Number of columns and rows\n",
    "df.shape"
   ]
  },
  {
   "cell_type": "code",
   "execution_count": 9,
   "id": "ce9eaf74",
   "metadata": {},
   "outputs": [
    {
     "data": {
      "text/plain": [
       "show_id            0\n",
       "type               0\n",
       "title              0\n",
       "director        2634\n",
       "cast             825\n",
       "country          831\n",
       "date_added        10\n",
       "release_year       0\n",
       "rating             4\n",
       "duration           3\n",
       "listed_in          0\n",
       "description        0\n",
       "dtype: int64"
      ]
     },
     "execution_count": 9,
     "metadata": {},
     "output_type": "execute_result"
    }
   ],
   "source": [
    "# Handling missing values\n",
    "df.isnull().sum()"
   ]
  },
  {
   "cell_type": "code",
   "execution_count": 10,
   "id": "e471dddd",
   "metadata": {},
   "outputs": [
    {
     "data": {
      "text/plain": [
       "0"
      ]
     },
     "execution_count": 10,
     "metadata": {},
     "output_type": "execute_result"
    }
   ],
   "source": [
    "# Duplicates\n",
    "df.duplicated().sum()"
   ]
  },
  {
   "cell_type": "markdown",
   "id": "035b7578",
   "metadata": {},
   "source": [
    "Handling missing values in Specific columns"
   ]
  },
  {
   "cell_type": "code",
   "execution_count": 11,
   "id": "110882d3",
   "metadata": {},
   "outputs": [
    {
     "data": {
      "text/plain": [
       "0       Kirsten Johnson\n",
       "1               No Data\n",
       "2       Julien Leclercq\n",
       "3               No Data\n",
       "4               No Data\n",
       "             ...       \n",
       "8802      David Fincher\n",
       "8803            No Data\n",
       "8804    Ruben Fleischer\n",
       "8805       Peter Hewitt\n",
       "8806        Mozez Singh\n",
       "Name: director, Length: 8807, dtype: object"
      ]
     },
     "execution_count": 11,
     "metadata": {},
     "output_type": "execute_result"
    }
   ],
   "source": [
    "#replacing missing values in 'director' column with 'No data'\n",
    "df['director'].replace(np.nan,'No Data',inplace = True)\n",
    "df['director']"
   ]
  },
  {
   "cell_type": "markdown",
   "id": "4d860026",
   "metadata": {},
   "source": [
    "Filling missing values in the country column with mode to ensure consistency"
   ]
  },
  {
   "cell_type": "code",
   "execution_count": 12,
   "id": "06937c7f",
   "metadata": {},
   "outputs": [
    {
     "data": {
      "text/plain": [
       "0       United States\n",
       "1        South Africa\n",
       "2                 NaN\n",
       "3                 NaN\n",
       "4               India\n",
       "            ...      \n",
       "8802    United States\n",
       "8803              NaN\n",
       "8804    United States\n",
       "8805    United States\n",
       "8806            India\n",
       "Name: country, Length: 8807, dtype: object"
      ]
     },
     "execution_count": 12,
     "metadata": {},
     "output_type": "execute_result"
    }
   ],
   "source": [
    "df['country'] = df['country'].fillna(df['country'].mode())\n",
    "df['country']"
   ]
  },
  {
   "cell_type": "markdown",
   "id": "085704e6",
   "metadata": {},
   "source": [
    "For the 'rating' column,we fill in missing values based on the 'type' of the show "
   ]
  },
  {
   "cell_type": "code",
   "execution_count": 13,
   "id": "5cd383f9",
   "metadata": {},
   "outputs": [],
   "source": [
    "movie_rating = df.loc[df['type'] == 'Movie','rating'].mode()[0]"
   ]
  },
  {
   "cell_type": "code",
   "execution_count": 14,
   "id": "afe495de",
   "metadata": {},
   "outputs": [
    {
     "data": {
      "text/plain": [
       "'TV-MA'"
      ]
     },
     "execution_count": 14,
     "metadata": {},
     "output_type": "execute_result"
    }
   ],
   "source": [
    "movie_rating"
   ]
  },
  {
   "cell_type": "code",
   "execution_count": 15,
   "id": "b1c1de55",
   "metadata": {},
   "outputs": [
    {
     "data": {
      "text/plain": [
       "'TV-MA'"
      ]
     },
     "execution_count": 15,
     "metadata": {},
     "output_type": "execute_result"
    }
   ],
   "source": [
    "tv_rating = df.loc[df['type'] == 'TV Show','rating'].mode()[0]\n",
    "tv_rating"
   ]
  },
  {
   "cell_type": "code",
   "execution_count": 16,
   "id": "1f21169e",
   "metadata": {},
   "outputs": [],
   "source": [
    "# Filling missing rating values based on the type of content\n",
    "df['rating']= df.apply(lambda x:movie_rating if x['type']== 'Movie' and pd.isna(x['rating'])else tv_rating if x['type']=='TV Show'and pd.isna(x['rating']) else x['rating'],axis=1)"
   ]
  },
  {
   "cell_type": "code",
   "execution_count": 17,
   "id": "e291680d",
   "metadata": {},
   "outputs": [
    {
     "data": {
      "text/plain": [
       "0       PG-13\n",
       "1       TV-MA\n",
       "2       TV-MA\n",
       "3       TV-MA\n",
       "4       TV-MA\n",
       "        ...  \n",
       "8802        R\n",
       "8803    TV-Y7\n",
       "8804        R\n",
       "8805       PG\n",
       "8806    TV-14\n",
       "Name: rating, Length: 8807, dtype: object"
      ]
     },
     "execution_count": 17,
     "metadata": {},
     "output_type": "execute_result"
    }
   ],
   "source": [
    "df['rating']"
   ]
  },
  {
   "cell_type": "code",
   "execution_count": 18,
   "id": "960990bb",
   "metadata": {},
   "outputs": [],
   "source": [
    "# For the 'duration' column, we fill in missing values based on th 'type'of the show. \n",
    "# Finding the mode duration for movies and TV shows\n",
    "movie_duration_mode = df.loc[df['type'] == 'Movie','duration'].mode()[0]\n",
    "tv_duration_mode = df.loc[df['type'] == 'TV Show','duration'].mode()[0]"
   ]
  },
  {
   "cell_type": "code",
   "execution_count": 19,
   "id": "249b0c16",
   "metadata": {},
   "outputs": [],
   "source": [
    "# Filling missing duration values based on the type of content \n",
    "df['duration'] = df.apply(lambda x: movie_duration_mode if x['type']=='Movie'and pd.isna(x['duration'])else tv_duration_mode if x['type']=='TV Show'and pd.isna(x['duration']) else x[\"duration\"], axis=1)"
   ]
  },
  {
   "cell_type": "code",
   "execution_count": 20,
   "id": "eebc7207",
   "metadata": {},
   "outputs": [
    {
     "data": {
      "text/plain": [
       "0          90 min\n",
       "1       2 Seasons\n",
       "2        1 Season\n",
       "3        1 Season\n",
       "4       2 Seasons\n",
       "          ...    \n",
       "8802      158 min\n",
       "8803    2 Seasons\n",
       "8804       88 min\n",
       "8805       88 min\n",
       "8806      111 min\n",
       "Name: duration, Length: 8807, dtype: object"
      ]
     },
     "execution_count": 20,
     "metadata": {},
     "output_type": "execute_result"
    }
   ],
   "source": [
    "df['duration']"
   ]
  },
  {
   "cell_type": "markdown",
   "id": "f59a69dd",
   "metadata": {},
   "source": [
    "Dropping remaining missing values to ensure a clean dataset for analysis"
   ]
  },
  {
   "cell_type": "code",
   "execution_count": 21,
   "id": "e5fbc506",
   "metadata": {},
   "outputs": [],
   "source": [
    "df.dropna(inplace = True)"
   ]
  },
  {
   "cell_type": "markdown",
   "id": "8a4b995b",
   "metadata": {},
   "source": [
    "# Date format"
   ]
  },
  {
   "cell_type": "code",
   "execution_count": 22,
   "id": "81eefe8e",
   "metadata": {},
   "outputs": [
    {
     "data": {
      "text/plain": [
       "1      2021-09-24\n",
       "4      2021-09-24\n",
       "7      2021-09-24\n",
       "8      2021-09-24\n",
       "9      2021-09-24\n",
       "          ...    \n",
       "8801   2016-03-09\n",
       "8802   2019-11-20\n",
       "8804   2019-11-01\n",
       "8805   2020-01-11\n",
       "8806   2019-03-02\n",
       "Name: date_added, Length: 7296, dtype: datetime64[ns]"
      ]
     },
     "execution_count": 22,
     "metadata": {},
     "output_type": "execute_result"
    }
   ],
   "source": [
    "# Converting the 'date_added'column to datetime format using pd.to_datetime() to enable further analysis based on date-related attributes\n",
    "df['date_added']=pd.to_datetime(df['date_added'])\n",
    "df['date_added']"
   ]
  },
  {
   "cell_type": "markdown",
   "id": "79169eb3",
   "metadata": {},
   "source": [
    "# # # # Other Data Transformations"
   ]
  },
  {
   "cell_type": "code",
   "execution_count": 23,
   "id": "bf4819dc",
   "metadata": {},
   "outputs": [
    {
     "data": {
      "text/plain": [
       "1        9\n",
       "4        9\n",
       "7        9\n",
       "8        9\n",
       "9        9\n",
       "        ..\n",
       "8801     3\n",
       "8802    11\n",
       "8804    11\n",
       "8805     1\n",
       "8806     3\n",
       "Name: month_added, Length: 7296, dtype: int64"
      ]
     },
     "execution_count": 23,
     "metadata": {},
     "output_type": "execute_result"
    }
   ],
   "source": [
    "# To extract additional attributes from the 'date_added' column to enhance our analysis capabilities, extract month and year values to analyse trends\n",
    "df['month_added'] = df['date_added'].dt.month\n",
    "df['month_name_added'] = df['date_added'].dt.month_name()\n",
    "df['year_added'] = df['date_added'].dt.year\n",
    "df['month_added']"
   ]
  },
  {
   "cell_type": "code",
   "execution_count": 24,
   "id": "77f10682",
   "metadata": {},
   "outputs": [
    {
     "data": {
      "text/plain": [
       "1       September\n",
       "4       September\n",
       "7       September\n",
       "8       September\n",
       "9       September\n",
       "          ...    \n",
       "8801        March\n",
       "8802     November\n",
       "8804     November\n",
       "8805      January\n",
       "8806        March\n",
       "Name: month_name_added, Length: 7296, dtype: object"
      ]
     },
     "execution_count": 24,
     "metadata": {},
     "output_type": "execute_result"
    }
   ],
   "source": [
    "df['month_name_added']"
   ]
  },
  {
   "cell_type": "code",
   "execution_count": 25,
   "id": "7eb19824",
   "metadata": {},
   "outputs": [
    {
     "data": {
      "text/plain": [
       "1       2021\n",
       "4       2021\n",
       "7       2021\n",
       "8       2021\n",
       "9       2021\n",
       "        ... \n",
       "8801    2016\n",
       "8802    2019\n",
       "8804    2019\n",
       "8805    2020\n",
       "8806    2019\n",
       "Name: year_added, Length: 7296, dtype: int64"
      ]
     },
     "execution_count": 25,
     "metadata": {},
     "output_type": "execute_result"
    }
   ],
   "source": [
    "df['year_added']"
   ]
  },
  {
   "cell_type": "code",
   "execution_count": 26,
   "id": "73246ffb",
   "metadata": {},
   "outputs": [
    {
     "data": {
      "text/plain": [
       "1     0                Ama Qamata\n",
       "      1               Khosi Ngema\n",
       "      2             Gail Mabalane\n",
       "      3            Thabang Molaba\n",
       "      4          Dillon Windvogel\n",
       "                    ...          \n",
       "8806  3          Manish Chaudhary\n",
       "      4              Meghna Malik\n",
       "      5             Malkeet Rauni\n",
       "      6            Anita Shabdish\n",
       "      7     Chittaranjan Tripathy\n",
       "Length: 59159, dtype: object"
      ]
     },
     "execution_count": 26,
     "metadata": {},
     "output_type": "execute_result"
    }
   ],
   "source": [
    "# Splitting Categorical attributes for exploration and analysis\n",
    "#splitting and expanding cast column\n",
    "\n",
    "df_cast = df['cast'].str.split(',',expand = True).stack()\n",
    "df_cast\n"
   ]
  },
  {
   "cell_type": "code",
   "execution_count": 27,
   "id": "0304b1cf",
   "metadata": {},
   "outputs": [
    {
     "data": {
      "text/html": [
       "<div>\n",
       "<style scoped>\n",
       "    .dataframe tbody tr th:only-of-type {\n",
       "        vertical-align: middle;\n",
       "    }\n",
       "\n",
       "    .dataframe tbody tr th {\n",
       "        vertical-align: top;\n",
       "    }\n",
       "\n",
       "    .dataframe thead th {\n",
       "        text-align: right;\n",
       "    }\n",
       "</style>\n",
       "<table border=\"1\" class=\"dataframe\">\n",
       "  <thead>\n",
       "    <tr style=\"text-align: right;\">\n",
       "      <th></th>\n",
       "      <th>cast</th>\n",
       "    </tr>\n",
       "  </thead>\n",
       "  <tbody>\n",
       "    <tr>\n",
       "      <th>1</th>\n",
       "      <td>Ama Qamata</td>\n",
       "    </tr>\n",
       "    <tr>\n",
       "      <th>1</th>\n",
       "      <td>Khosi Ngema</td>\n",
       "    </tr>\n",
       "    <tr>\n",
       "      <th>1</th>\n",
       "      <td>Gail Mabalane</td>\n",
       "    </tr>\n",
       "    <tr>\n",
       "      <th>1</th>\n",
       "      <td>Thabang Molaba</td>\n",
       "    </tr>\n",
       "    <tr>\n",
       "      <th>1</th>\n",
       "      <td>Dillon Windvogel</td>\n",
       "    </tr>\n",
       "    <tr>\n",
       "      <th>...</th>\n",
       "      <td>...</td>\n",
       "    </tr>\n",
       "    <tr>\n",
       "      <th>8806</th>\n",
       "      <td>Manish Chaudhary</td>\n",
       "    </tr>\n",
       "    <tr>\n",
       "      <th>8806</th>\n",
       "      <td>Meghna Malik</td>\n",
       "    </tr>\n",
       "    <tr>\n",
       "      <th>8806</th>\n",
       "      <td>Malkeet Rauni</td>\n",
       "    </tr>\n",
       "    <tr>\n",
       "      <th>8806</th>\n",
       "      <td>Anita Shabdish</td>\n",
       "    </tr>\n",
       "    <tr>\n",
       "      <th>8806</th>\n",
       "      <td>Chittaranjan Tripathy</td>\n",
       "    </tr>\n",
       "  </tbody>\n",
       "</table>\n",
       "<p>59159 rows × 1 columns</p>\n",
       "</div>"
      ],
      "text/plain": [
       "                        cast\n",
       "1                 Ama Qamata\n",
       "1                Khosi Ngema\n",
       "1              Gail Mabalane\n",
       "1             Thabang Molaba\n",
       "1           Dillon Windvogel\n",
       "...                      ...\n",
       "8806        Manish Chaudhary\n",
       "8806            Meghna Malik\n",
       "8806           Malkeet Rauni\n",
       "8806          Anita Shabdish\n",
       "8806   Chittaranjan Tripathy\n",
       "\n",
       "[59159 rows x 1 columns]"
      ]
     },
     "execution_count": 27,
     "metadata": {},
     "output_type": "execute_result"
    }
   ],
   "source": [
    "df_cast = df_cast.reset_index(level=1, drop= True).to_frame('cast')\n",
    "df_cast\n"
   ]
  },
  {
   "cell_type": "code",
   "execution_count": 28,
   "id": "cef69f19",
   "metadata": {},
   "outputs": [
    {
     "data": {
      "text/plain": [
       "1          s2\n",
       "1          s2\n",
       "1          s2\n",
       "1          s2\n",
       "1          s2\n",
       "        ...  \n",
       "8806    s8807\n",
       "8806    s8807\n",
       "8806    s8807\n",
       "8806    s8807\n",
       "8806    s8807\n",
       "Name: show_id, Length: 59159, dtype: object"
      ]
     },
     "execution_count": 28,
     "metadata": {},
     "output_type": "execute_result"
    }
   ],
   "source": [
    "df_cast ['show_id'] = df['show_id']\n",
    "df_cast ['show_id']"
   ]
  },
  {
   "cell_type": "code",
   "execution_count": 29,
   "id": "0baccc4d",
   "metadata": {},
   "outputs": [
    {
     "data": {
      "text/plain": [
       "1     0     South Africa\n",
       "4     0            India\n",
       "7     0    United States\n",
       "      1            Ghana\n",
       "      2     Burkina Faso\n",
       "               ...      \n",
       "8801  1           Jordan\n",
       "8802  0    United States\n",
       "8804  0    United States\n",
       "8805  0    United States\n",
       "8806  0            India\n",
       "Length: 9158, dtype: object"
      ]
     },
     "execution_count": 29,
     "metadata": {},
     "output_type": "execute_result"
    }
   ],
   "source": [
    "#Splitting and expanding country column\n",
    "df_country = df['country'].str.split(',',expand=True).stack()\n",
    "df_country"
   ]
  },
  {
   "cell_type": "code",
   "execution_count": 30,
   "id": "1704f4a3",
   "metadata": {},
   "outputs": [
    {
     "data": {
      "text/html": [
       "<div>\n",
       "<style scoped>\n",
       "    .dataframe tbody tr th:only-of-type {\n",
       "        vertical-align: middle;\n",
       "    }\n",
       "\n",
       "    .dataframe tbody tr th {\n",
       "        vertical-align: top;\n",
       "    }\n",
       "\n",
       "    .dataframe thead th {\n",
       "        text-align: right;\n",
       "    }\n",
       "</style>\n",
       "<table border=\"1\" class=\"dataframe\">\n",
       "  <thead>\n",
       "    <tr style=\"text-align: right;\">\n",
       "      <th></th>\n",
       "      <th>country</th>\n",
       "    </tr>\n",
       "  </thead>\n",
       "  <tbody>\n",
       "    <tr>\n",
       "      <th>1</th>\n",
       "      <td>South Africa</td>\n",
       "    </tr>\n",
       "    <tr>\n",
       "      <th>4</th>\n",
       "      <td>India</td>\n",
       "    </tr>\n",
       "    <tr>\n",
       "      <th>7</th>\n",
       "      <td>United States</td>\n",
       "    </tr>\n",
       "    <tr>\n",
       "      <th>7</th>\n",
       "      <td>Ghana</td>\n",
       "    </tr>\n",
       "    <tr>\n",
       "      <th>7</th>\n",
       "      <td>Burkina Faso</td>\n",
       "    </tr>\n",
       "    <tr>\n",
       "      <th>...</th>\n",
       "      <td>...</td>\n",
       "    </tr>\n",
       "    <tr>\n",
       "      <th>8801</th>\n",
       "      <td>Jordan</td>\n",
       "    </tr>\n",
       "    <tr>\n",
       "      <th>8802</th>\n",
       "      <td>United States</td>\n",
       "    </tr>\n",
       "    <tr>\n",
       "      <th>8804</th>\n",
       "      <td>United States</td>\n",
       "    </tr>\n",
       "    <tr>\n",
       "      <th>8805</th>\n",
       "      <td>United States</td>\n",
       "    </tr>\n",
       "    <tr>\n",
       "      <th>8806</th>\n",
       "      <td>India</td>\n",
       "    </tr>\n",
       "  </tbody>\n",
       "</table>\n",
       "<p>9158 rows × 1 columns</p>\n",
       "</div>"
      ],
      "text/plain": [
       "            country\n",
       "1      South Africa\n",
       "4             India\n",
       "7     United States\n",
       "7             Ghana\n",
       "7      Burkina Faso\n",
       "...             ...\n",
       "8801         Jordan\n",
       "8802  United States\n",
       "8804  United States\n",
       "8805  United States\n",
       "8806          India\n",
       "\n",
       "[9158 rows x 1 columns]"
      ]
     },
     "execution_count": 30,
     "metadata": {},
     "output_type": "execute_result"
    }
   ],
   "source": [
    "df_country = df_country.reset_index(level=1, drop= True).to_frame('country')\n",
    "df_country"
   ]
  },
  {
   "cell_type": "code",
   "execution_count": 31,
   "id": "3a507cf4",
   "metadata": {},
   "outputs": [
    {
     "data": {
      "text/plain": [
       "1          s2\n",
       "4          s5\n",
       "7          s8\n",
       "8          s9\n",
       "9         s10\n",
       "        ...  \n",
       "8801    s8802\n",
       "8802    s8803\n",
       "8804    s8805\n",
       "8805    s8806\n",
       "8806    s8807\n",
       "Name: show_id, Length: 7296, dtype: object"
      ]
     },
     "execution_count": 31,
     "metadata": {},
     "output_type": "execute_result"
    }
   ],
   "source": [
    "df_country['show_id'] = df['show_id']\n",
    "df['show_id']"
   ]
  },
  {
   "cell_type": "code",
   "execution_count": 32,
   "id": "65c15e63",
   "metadata": {},
   "outputs": [],
   "source": [
    "# Splitting and expanding the 'listed_in'column\n",
    "df_listed_in = df['listed_in'].str.split(',',expand = True).stack()\n"
   ]
  },
  {
   "cell_type": "code",
   "execution_count": 33,
   "id": "39d4b582",
   "metadata": {},
   "outputs": [
    {
     "data": {
      "text/html": [
       "<div>\n",
       "<style scoped>\n",
       "    .dataframe tbody tr th:only-of-type {\n",
       "        vertical-align: middle;\n",
       "    }\n",
       "\n",
       "    .dataframe tbody tr th {\n",
       "        vertical-align: top;\n",
       "    }\n",
       "\n",
       "    .dataframe thead th {\n",
       "        text-align: right;\n",
       "    }\n",
       "</style>\n",
       "<table border=\"1\" class=\"dataframe\">\n",
       "  <thead>\n",
       "    <tr style=\"text-align: right;\">\n",
       "      <th></th>\n",
       "      <th>listed_in</th>\n",
       "    </tr>\n",
       "  </thead>\n",
       "  <tbody>\n",
       "    <tr>\n",
       "      <th>1</th>\n",
       "      <td>International TV Shows</td>\n",
       "    </tr>\n",
       "    <tr>\n",
       "      <th>1</th>\n",
       "      <td>TV Dramas</td>\n",
       "    </tr>\n",
       "    <tr>\n",
       "      <th>1</th>\n",
       "      <td>TV Mysteries</td>\n",
       "    </tr>\n",
       "    <tr>\n",
       "      <th>4</th>\n",
       "      <td>International TV Shows</td>\n",
       "    </tr>\n",
       "    <tr>\n",
       "      <th>4</th>\n",
       "      <td>Romantic TV Shows</td>\n",
       "    </tr>\n",
       "    <tr>\n",
       "      <th>...</th>\n",
       "      <td>...</td>\n",
       "    </tr>\n",
       "    <tr>\n",
       "      <th>8805</th>\n",
       "      <td>Children &amp; Family Movies</td>\n",
       "    </tr>\n",
       "    <tr>\n",
       "      <th>8805</th>\n",
       "      <td>Comedies</td>\n",
       "    </tr>\n",
       "    <tr>\n",
       "      <th>8806</th>\n",
       "      <td>Dramas</td>\n",
       "    </tr>\n",
       "    <tr>\n",
       "      <th>8806</th>\n",
       "      <td>International Movies</td>\n",
       "    </tr>\n",
       "    <tr>\n",
       "      <th>8806</th>\n",
       "      <td>Music &amp; Musicals</td>\n",
       "    </tr>\n",
       "  </tbody>\n",
       "</table>\n",
       "<p>16376 rows × 1 columns</p>\n",
       "</div>"
      ],
      "text/plain": [
       "                     listed_in\n",
       "1       International TV Shows\n",
       "1                    TV Dramas\n",
       "1                 TV Mysteries\n",
       "4       International TV Shows\n",
       "4            Romantic TV Shows\n",
       "...                        ...\n",
       "8805  Children & Family Movies\n",
       "8805                  Comedies\n",
       "8806                    Dramas\n",
       "8806      International Movies\n",
       "8806          Music & Musicals\n",
       "\n",
       "[16376 rows x 1 columns]"
      ]
     },
     "execution_count": 33,
     "metadata": {},
     "output_type": "execute_result"
    }
   ],
   "source": [
    "df_listed_in = df_listed_in.reset_index(level=1, drop= True).to_frame('listed_in')\n",
    "df_listed_in"
   ]
  },
  {
   "cell_type": "code",
   "execution_count": 34,
   "id": "82468f6e",
   "metadata": {},
   "outputs": [
    {
     "data": {
      "text/plain": [
       "1          s2\n",
       "1          s2\n",
       "1          s2\n",
       "4          s5\n",
       "4          s5\n",
       "        ...  \n",
       "8805    s8806\n",
       "8805    s8806\n",
       "8806    s8807\n",
       "8806    s8807\n",
       "8806    s8807\n",
       "Name: show_id, Length: 16376, dtype: object"
      ]
     },
     "execution_count": 34,
     "metadata": {},
     "output_type": "execute_result"
    }
   ],
   "source": [
    "df_listed_in ['show_id']=df ['show_id']\n",
    "df_listed_in ['show_id']"
   ]
  },
  {
   "cell_type": "code",
   "execution_count": 35,
   "id": "e0489e05",
   "metadata": {},
   "outputs": [
    {
     "data": {
      "text/plain": [
       "1     0            No Data\n",
       "4     0            No Data\n",
       "7     0       Haile Gerima\n",
       "8     0    Andy Devonshire\n",
       "9     0     Theodore Melfi\n",
       "                ...       \n",
       "8801  0    Majid Al Ansari\n",
       "8802  0      David Fincher\n",
       "8804  0    Ruben Fleischer\n",
       "8805  0       Peter Hewitt\n",
       "8806  0        Mozez Singh\n",
       "Length: 7924, dtype: object"
      ]
     },
     "execution_count": 35,
     "metadata": {},
     "output_type": "execute_result"
    }
   ],
   "source": [
    "# Splitting and expanding 'director' column\n",
    "df_director = df['director'].str.split(',',expand=True).stack()\n",
    "df_director"
   ]
  },
  {
   "cell_type": "code",
   "execution_count": 36,
   "id": "c3f0fbd3",
   "metadata": {},
   "outputs": [
    {
     "data": {
      "text/html": [
       "<div>\n",
       "<style scoped>\n",
       "    .dataframe tbody tr th:only-of-type {\n",
       "        vertical-align: middle;\n",
       "    }\n",
       "\n",
       "    .dataframe tbody tr th {\n",
       "        vertical-align: top;\n",
       "    }\n",
       "\n",
       "    .dataframe thead th {\n",
       "        text-align: right;\n",
       "    }\n",
       "</style>\n",
       "<table border=\"1\" class=\"dataframe\">\n",
       "  <thead>\n",
       "    <tr style=\"text-align: right;\">\n",
       "      <th></th>\n",
       "      <th>director</th>\n",
       "    </tr>\n",
       "  </thead>\n",
       "  <tbody>\n",
       "    <tr>\n",
       "      <th>1</th>\n",
       "      <td>No Data</td>\n",
       "    </tr>\n",
       "    <tr>\n",
       "      <th>4</th>\n",
       "      <td>No Data</td>\n",
       "    </tr>\n",
       "    <tr>\n",
       "      <th>7</th>\n",
       "      <td>Haile Gerima</td>\n",
       "    </tr>\n",
       "    <tr>\n",
       "      <th>8</th>\n",
       "      <td>Andy Devonshire</td>\n",
       "    </tr>\n",
       "    <tr>\n",
       "      <th>9</th>\n",
       "      <td>Theodore Melfi</td>\n",
       "    </tr>\n",
       "    <tr>\n",
       "      <th>...</th>\n",
       "      <td>...</td>\n",
       "    </tr>\n",
       "    <tr>\n",
       "      <th>8801</th>\n",
       "      <td>Majid Al Ansari</td>\n",
       "    </tr>\n",
       "    <tr>\n",
       "      <th>8802</th>\n",
       "      <td>David Fincher</td>\n",
       "    </tr>\n",
       "    <tr>\n",
       "      <th>8804</th>\n",
       "      <td>Ruben Fleischer</td>\n",
       "    </tr>\n",
       "    <tr>\n",
       "      <th>8805</th>\n",
       "      <td>Peter Hewitt</td>\n",
       "    </tr>\n",
       "    <tr>\n",
       "      <th>8806</th>\n",
       "      <td>Mozez Singh</td>\n",
       "    </tr>\n",
       "  </tbody>\n",
       "</table>\n",
       "<p>7924 rows × 1 columns</p>\n",
       "</div>"
      ],
      "text/plain": [
       "             director\n",
       "1             No Data\n",
       "4             No Data\n",
       "7        Haile Gerima\n",
       "8     Andy Devonshire\n",
       "9      Theodore Melfi\n",
       "...               ...\n",
       "8801  Majid Al Ansari\n",
       "8802    David Fincher\n",
       "8804  Ruben Fleischer\n",
       "8805     Peter Hewitt\n",
       "8806      Mozez Singh\n",
       "\n",
       "[7924 rows x 1 columns]"
      ]
     },
     "execution_count": 36,
     "metadata": {},
     "output_type": "execute_result"
    }
   ],
   "source": [
    "df_director=df_director.reset_index(level=1, drop= True).to_frame('director')\n",
    "df_director"
   ]
  },
  {
   "cell_type": "code",
   "execution_count": 37,
   "id": "bd4675a2",
   "metadata": {},
   "outputs": [
    {
     "data": {
      "text/html": [
       "<div>\n",
       "<style scoped>\n",
       "    .dataframe tbody tr th:only-of-type {\n",
       "        vertical-align: middle;\n",
       "    }\n",
       "\n",
       "    .dataframe tbody tr th {\n",
       "        vertical-align: top;\n",
       "    }\n",
       "\n",
       "    .dataframe thead th {\n",
       "        text-align: right;\n",
       "    }\n",
       "</style>\n",
       "<table border=\"1\" class=\"dataframe\">\n",
       "  <thead>\n",
       "    <tr style=\"text-align: right;\">\n",
       "      <th></th>\n",
       "      <th>director</th>\n",
       "      <th>show_id</th>\n",
       "    </tr>\n",
       "  </thead>\n",
       "  <tbody>\n",
       "    <tr>\n",
       "      <th>1</th>\n",
       "      <td>No Data</td>\n",
       "      <td>s2</td>\n",
       "    </tr>\n",
       "    <tr>\n",
       "      <th>4</th>\n",
       "      <td>No Data</td>\n",
       "      <td>s5</td>\n",
       "    </tr>\n",
       "    <tr>\n",
       "      <th>7</th>\n",
       "      <td>Haile Gerima</td>\n",
       "      <td>s8</td>\n",
       "    </tr>\n",
       "    <tr>\n",
       "      <th>8</th>\n",
       "      <td>Andy Devonshire</td>\n",
       "      <td>s9</td>\n",
       "    </tr>\n",
       "    <tr>\n",
       "      <th>9</th>\n",
       "      <td>Theodore Melfi</td>\n",
       "      <td>s10</td>\n",
       "    </tr>\n",
       "    <tr>\n",
       "      <th>...</th>\n",
       "      <td>...</td>\n",
       "      <td>...</td>\n",
       "    </tr>\n",
       "    <tr>\n",
       "      <th>8801</th>\n",
       "      <td>Majid Al Ansari</td>\n",
       "      <td>s8802</td>\n",
       "    </tr>\n",
       "    <tr>\n",
       "      <th>8802</th>\n",
       "      <td>David Fincher</td>\n",
       "      <td>s8803</td>\n",
       "    </tr>\n",
       "    <tr>\n",
       "      <th>8804</th>\n",
       "      <td>Ruben Fleischer</td>\n",
       "      <td>s8805</td>\n",
       "    </tr>\n",
       "    <tr>\n",
       "      <th>8805</th>\n",
       "      <td>Peter Hewitt</td>\n",
       "      <td>s8806</td>\n",
       "    </tr>\n",
       "    <tr>\n",
       "      <th>8806</th>\n",
       "      <td>Mozez Singh</td>\n",
       "      <td>s8807</td>\n",
       "    </tr>\n",
       "  </tbody>\n",
       "</table>\n",
       "<p>7924 rows × 2 columns</p>\n",
       "</div>"
      ],
      "text/plain": [
       "             director show_id\n",
       "1             No Data      s2\n",
       "4             No Data      s5\n",
       "7        Haile Gerima      s8\n",
       "8     Andy Devonshire      s9\n",
       "9      Theodore Melfi     s10\n",
       "...               ...     ...\n",
       "8801  Majid Al Ansari   s8802\n",
       "8802    David Fincher   s8803\n",
       "8804  Ruben Fleischer   s8805\n",
       "8805     Peter Hewitt   s8806\n",
       "8806      Mozez Singh   s8807\n",
       "\n",
       "[7924 rows x 2 columns]"
      ]
     },
     "execution_count": 37,
     "metadata": {},
     "output_type": "execute_result"
    }
   ],
   "source": [
    "df_director['show_id']=df['show_id']\n",
    "df_director"
   ]
  },
  {
   "cell_type": "markdown",
   "id": "00d1b810",
   "metadata": {},
   "source": [
    "# ## Exploratory Data Analysis"
   ]
  },
  {
   "cell_type": "code",
   "execution_count": 38,
   "id": "25a7f269",
   "metadata": {},
   "outputs": [
    {
     "data": {
      "text/plain": [
       "type\n",
       "Movie      72.38\n",
       "TV Show    27.62\n",
       "Name: type, dtype: float64"
      ]
     },
     "execution_count": 38,
     "metadata": {},
     "output_type": "execute_result"
    }
   ],
   "source": [
    "# To find the distribution of content in the dataset \n",
    "x = df.groupby(['type'])[\"type\"].count()\n",
    "y = len(df)\n",
    "r = ((x/y)* 100).round(2)\n",
    "r"
   ]
  },
  {
   "cell_type": "markdown",
   "id": "7b13ff95",
   "metadata": {},
   "source": [
    "72% content is Movie\n",
    "27.62% content is TV_show"
   ]
  },
  {
   "cell_type": "code",
   "execution_count": 39,
   "id": "fb687661",
   "metadata": {},
   "outputs": [],
   "source": [
    "# To Remove spaces\n",
    "df_country['country'] = df_country['country'].str.rstrip()"
   ]
  },
  {
   "cell_type": "code",
   "execution_count": 40,
   "id": "217c2464",
   "metadata": {},
   "outputs": [
    {
     "data": {
      "text/plain": [
       "United States     2842\n",
       "India              976\n",
       "United Kingdom     546\n",
       " United States     435\n",
       "Japan              252\n",
       "                  ... \n",
       "Soviet Union         1\n",
       "Georgia              1\n",
       " Ghana               1\n",
       " Slovakia            1\n",
       " Montenegro          1\n",
       "Name: country, Length: 185, dtype: int64"
      ]
     },
     "execution_count": 40,
     "metadata": {},
     "output_type": "execute_result"
    }
   ],
   "source": [
    "# Value_counts\n",
    "country_counts = df_country['country'].value_counts()\n",
    "country_counts"
   ]
  },
  {
   "cell_type": "code",
   "execution_count": null,
   "id": "b0ea3e40",
   "metadata": {},
   "outputs": [],
   "source": []
  },
  {
   "cell_type": "code",
   "execution_count": 41,
   "id": "428068ce",
   "metadata": {},
   "outputs": [
    {
     "data": {
      "text/plain": [
       "United States     2842\n",
       "India              976\n",
       "United Kingdom     546\n",
       " United States     435\n",
       "Japan              252\n",
       "Canada             245\n",
       "South Korea        208\n",
       "France             190\n",
       " France            171\n",
       " Canada            169\n",
       "Name: country, dtype: int64"
      ]
     },
     "execution_count": 41,
     "metadata": {},
     "output_type": "execute_result"
    }
   ],
   "source": [
    "# Popular top 10 countries for Netflix viewership\n",
    "top_countries = country_counts.head(10)\n",
    "top_countries"
   ]
  },
  {
   "cell_type": "markdown",
   "id": "92995a5c",
   "metadata": {},
   "source": [
    "##Visual Analysis - Univariate, Bivariate analysis"
   ]
  },
  {
   "cell_type": "code",
   "execution_count": 42,
   "id": "db1249e9",
   "metadata": {},
   "outputs": [
    {
     "name": "stdout",
     "output_type": "stream",
     "text": [
      "Index(['United States', 'India', 'United Kingdom', ' United States', 'Japan',\n",
      "       'Canada', 'South Korea', 'France', ' France', ' Canada'],\n",
      "      dtype='object')\n"
     ]
    },
    {
     "data": {
      "image/png": "[encoded data removed]",
      "text/plain": [
       "<Figure size 432x288 with 1 Axes>"
      ]
     },
     "metadata": {
      "needs_background": "light"
     },
     "output_type": "display_data"
    }
   ],
   "source": [
    "#plot top 10 countries\n",
    "\n",
    "\n",
    "x_bar = top_countries.index\n",
    "print(x_bar)\n",
    "y_bar = top_countries.values\n",
    "#country_counts.head(10)\n",
    "\n",
    "plt.title(\"Top 10 countries for Netflix\" )\n",
    "plt.xlabel('Country')\n",
    "plt.ylabel('Number of Titles')\n",
    "#plt.figure(figsize=(12,8))\n",
    "plt.bar(x_bar,y_bar,width=0.5,color='blue')\n",
    "plt.xticks(rotation=90,fontsize=12)\n",
    "\n",
    "\n",
    "plt.show()"
   ]
  },
  {
   "cell_type": "markdown",
   "id": "ad4272c4",
   "metadata": {},
   "source": [
    "Bar chart visualisation reveals that United states is the top country in Netflix popularity"
   ]
  },
  {
   "cell_type": "code",
   "execution_count": 43,
   "id": "bbbb7992",
   "metadata": {},
   "outputs": [
    {
     "data": {
      "text/plain": [
       " Takahiro Sakurai     28\n",
       " Om Puri              27\n",
       " Boman Irani          25\n",
       " Paresh Rawal         25\n",
       "Shah Rukh Khan        25\n",
       " Yuki Kaji            24\n",
       "Akshay Kumar          23\n",
       "Amitabh Bachchan      20\n",
       " Naseeruddin Shah     20\n",
       "David Attenborough    20\n",
       "Name: cast, dtype: int64"
      ]
     },
     "execution_count": 43,
     "metadata": {},
     "output_type": "execute_result"
    }
   ],
   "source": [
    "# Top 10 actors by movie/ TV show count\n",
    "cast_counts = df_cast['cast'].value_counts()[1:]\n",
    "top_10_cast=cast_counts.head(10)\n",
    "top_10_cast"
   ]
  },
  {
   "cell_type": "code",
   "execution_count": 44,
   "id": "1ad906c0",
   "metadata": {},
   "outputs": [
    {
     "data": {
      "image/png": "[encoded data removed]",
      "text/plain": [
       "<Figure size 432x288 with 1 Axes>"
      ]
     },
     "metadata": {
      "needs_background": "light"
     },
     "output_type": "display_data"
    }
   ],
   "source": [
    "\n",
    "#plt.figure(figsize=(16,8)) (len(top_10_cast)-1)\n",
    "bar_plot = sns.barplot(x=top_10_cast.index, y = top_10_cast.values, color = 'orange')\n",
    "plt.xlabel('Actor')\n",
    "plt.ylabel('Number of Appearances')\n",
    "plt.title('Top 10 Actors by Movie/TV show count')\n",
    "plt.xticks(rotation=90,fontsize=12)\n",
    "\n",
    "plt.show()\n"
   ]
  },
  {
   "cell_type": "markdown",
   "id": "e37ee5bc",
   "metadata": {},
   "source": [
    "### Top 10 categories by movie/ TV show"
   ]
  },
  {
   "cell_type": "code",
   "execution_count": 45,
   "id": "4f0c1e01",
   "metadata": {},
   "outputs": [
    {
     "data": {
      "text/plain": [
       "1         International TV Shows, TV Dramas, TV Mysteries\n",
       "4       International TV Shows, Romantic TV Shows, TV ...\n",
       "7        Dramas, Independent Movies, International Movies\n",
       "8                            British TV Shows, Reality TV\n",
       "9                                        Comedies, Dramas\n",
       "                              ...                        \n",
       "8801              Dramas, International Movies, Thrillers\n",
       "8802                       Cult Movies, Dramas, Thrillers\n",
       "8804                              Comedies, Horror Movies\n",
       "8805                   Children & Family Movies, Comedies\n",
       "8806       Dramas, International Movies, Music & Musicals\n",
       "Name: listed_in, Length: 7296, dtype: object"
      ]
     },
     "execution_count": 45,
     "metadata": {},
     "output_type": "execute_result"
    }
   ],
   "source": [
    "# Content distribution in different categories\n",
    "df_listed_in = df['listed_in'].str.strip()\n",
    "df_listed_in"
   ]
  },
  {
   "cell_type": "code",
   "execution_count": 46,
   "id": "681f124c",
   "metadata": {
    "scrolled": true
   },
   "outputs": [
    {
     "data": {
      "text/plain": [
       "Dramas, International Movies                          337\n",
       "Stand-Up Comedy                                       302\n",
       "Comedies, Dramas, International Movies                260\n",
       "Dramas, Independent Movies, International Movies      243\n",
       "Children & Family Movies, Comedies                    181\n",
       "                                                     ... \n",
       "Children & Family Movies, Comedies, LGBTQ Movies        1\n",
       "Kids' TV, Spanish-Language TV Shows, Teen TV Shows      1\n",
       "Horror Movies, LGBTQ Movies, Music & Musicals           1\n",
       "TV Horror, TV Mysteries, Teen TV Shows                  1\n",
       "Cult Movies, Dramas, Thrillers                          1\n",
       "Name: listed_in, Length: 489, dtype: int64"
      ]
     },
     "execution_count": 46,
     "metadata": {},
     "output_type": "execute_result"
    }
   ],
   "source": [
    "#count the occurances of each actor listed_in_counts\n",
    "df_listed_in = df['listed_in'].value_counts()\n",
    "df_listed_in"
   ]
  },
  {
   "cell_type": "code",
   "execution_count": 47,
   "id": "cfbe5524",
   "metadata": {},
   "outputs": [
    {
     "data": {
      "text/plain": [
       "Raúl Campos            18\n",
       " Jan Suter             18\n",
       "Jay Karas              15\n",
       "Marcus Raboy           15\n",
       "Cathy Garcia-Molina    13\n",
       "                       ..\n",
       "Igor Kovalyov           1\n",
       " Norton Virgien         1\n",
       "Danny Cannon            1\n",
       "Mana Yasuda             1\n",
       "Mozez Singh             1\n",
       "Name: director, Length: 4414, dtype: int64"
      ]
     },
     "execution_count": 47,
     "metadata": {},
     "output_type": "execute_result"
    }
   ],
   "source": [
    "director_counts = df_director['director'].value_counts()[1:]\n",
    "director_counts"
   ]
  },
  {
   "cell_type": "code",
   "execution_count": 48,
   "id": "806ce73e",
   "metadata": {},
   "outputs": [
    {
     "data": {
      "text/plain": [
       "Raúl Campos            18\n",
       " Jan Suter             18\n",
       "Jay Karas              15\n",
       "Marcus Raboy           15\n",
       "Cathy Garcia-Molina    13\n",
       "Youssef Chahine        12\n",
       "Martin Scorsese        12\n",
       "Jay Chapman            12\n",
       "Steven Spielberg       11\n",
       "Don Michael Paul       10\n",
       "Name: director, dtype: int64"
      ]
     },
     "execution_count": 48,
     "metadata": {},
     "output_type": "execute_result"
    }
   ],
   "source": [
    "# Top 10 directors \n",
    "top_10_directors =  director_counts.head(10)\n",
    "top_10_directors"
   ]
  },
  {
   "cell_type": "code",
   "execution_count": 49,
   "id": "48cd1edc",
   "metadata": {},
   "outputs": [
    {
     "data": {
      "text/plain": [
       "Dramas, International Movies                        337\n",
       "Stand-Up Comedy                                     302\n",
       "Comedies, Dramas, International Movies              260\n",
       "Dramas, Independent Movies, International Movies    243\n",
       "Children & Family Movies, Comedies                  181\n",
       "Documentaries                                       166\n",
       "Dramas, International Movies, Romantic Movies       161\n",
       "Kids' TV                                            161\n",
       "Comedies, International Movies                      154\n",
       "Comedies, International Movies, Romantic Movies     144\n",
       "Name: listed_in, dtype: int64"
      ]
     },
     "execution_count": 49,
     "metadata": {},
     "output_type": "execute_result"
    }
   ],
   "source": [
    "# Top 10 actors \n",
    "top_10_listed_in =  df_listed_in.head(10)\n",
    "top_10_listed_in"
   ]
  },
  {
   "cell_type": "code",
   "execution_count": 50,
   "id": "88b6aa05",
   "metadata": {},
   "outputs": [
    {
     "data": {
      "image/png": "[encoded data removed]",
      "text/plain": [
       "<Figure size 432x288 with 1 Axes>"
      ]
     },
     "metadata": {
      "needs_background": "light"
     },
     "output_type": "display_data"
    }
   ],
   "source": [
    "#plt.figure(figsize=(20,8)) (len(top_10_cast)-1)\n",
    "bar_plot = sns.barplot(x=top_10_listed_in.index, y = top_10_listed_in.values, color = 'yellow')\n",
    "plt.xlabel('category')\n",
    "plt.ylabel('Number of movies/TV shows')\n",
    "plt.title('Top 10 categories by Movie/TV show count')\n",
    "plt.xticks(rotation=90,fontsize=12)\n",
    "\n",
    "plt.show()"
   ]
  },
  {
   "cell_type": "markdown",
   "id": "b79f86cb",
   "metadata": {},
   "source": [
    "The above bar plot shows top 10 categories of movies and TV shows International movies and drama are showing highest count"
   ]
  },
  {
   "cell_type": "markdown",
   "id": "0e6dd90b",
   "metadata": {},
   "source": [
    "### Movies and TV shows added over time"
   ]
  },
  {
   "cell_type": "code",
   "execution_count": 51,
   "id": "9ae30c5d",
   "metadata": {},
   "outputs": [],
   "source": [
    "# Filter the data to include only movies and TV shows \n",
    "df_movies = df[df['type']=='Movie']"
   ]
  },
  {
   "cell_type": "code",
   "execution_count": 52,
   "id": "7fadb275",
   "metadata": {},
   "outputs": [],
   "source": [
    "df_TV_shows = df[df['type']== 'TV Show']"
   ]
  },
  {
   "cell_type": "code",
   "execution_count": 53,
   "id": "9c18e68f",
   "metadata": {},
   "outputs": [
    {
     "data": {
      "text/plain": [
       "2008       1\n",
       "2009       2\n",
       "2010       1\n",
       "2011      13\n",
       "2012       3\n",
       "2013       6\n",
       "2014      15\n",
       "2015      47\n",
       "2016     207\n",
       "2017     712\n",
       "2018    1114\n",
       "2019    1261\n",
       "2020    1164\n",
       "2021     735\n",
       "Name: year_added, dtype: int64"
      ]
     },
     "execution_count": 53,
     "metadata": {},
     "output_type": "execute_result"
    }
   ],
   "source": [
    "# To find the movies and TV shows added in each year\n",
    "movies_count = df_movies['year_added'].value_counts().sort_index()\n",
    "movies_count"
   ]
  },
  {
   "cell_type": "code",
   "execution_count": 54,
   "id": "a32c1244",
   "metadata": {},
   "outputs": [
    {
     "data": {
      "text/plain": [
       "2013      5\n",
       "2014      5\n",
       "2015     23\n",
       "2016    154\n",
       "2017    279\n",
       "2018    291\n",
       "2019    461\n",
       "2020    476\n",
       "2021    321\n",
       "Name: year_added, dtype: int64"
      ]
     },
     "execution_count": 54,
     "metadata": {},
     "output_type": "execute_result"
    }
   ],
   "source": [
    "TV_shows_count = df_TV_shows['year_added'].value_counts().sort_index()\n",
    "TV_shows_count"
   ]
  },
  {
   "cell_type": "code",
   "execution_count": 55,
   "id": "c2a9c66f",
   "metadata": {},
   "outputs": [
    {
     "data": {
      "image/png": "[encoded data removed]",
      "text/plain": [
       "<Figure size 432x288 with 1 Axes>"
      ]
     },
     "metadata": {
      "needs_background": "light"
     },
     "output_type": "display_data"
    }
   ],
   "source": [
    "#chart to visualise trends over time\n",
    "plt.plot(movies_count.index, movies_count.values, color='purple',label='Movies', linewidth=2)\n",
    "plt.plot(TV_shows_count.index, TV_shows_count.values, color='orange',label='TV_shows', linewidth=2)\n",
    "#plt.xlabel('year')\n",
    "#plt.ylabel('Count')\n",
    "#plt.title(\"Movies and TV shows added over years\")\n",
    "plt.legend()\n",
    "plt.show()"
   ]
  },
  {
   "cell_type": "code",
   "execution_count": 56,
   "id": "9b19b291",
   "metadata": {},
   "outputs": [],
   "source": [
    "# We can observe from the line plot that there is increase in addition of movies over the years starting from 2015\n",
    "# Maximum movies were added in 2019\n",
    "# Maximum TV_shows were added in 2020\n",
    "# We can also see that more movies were added than TV_shows"
   ]
  },
  {
   "cell_type": "code",
   "execution_count": 57,
   "id": "e85b6819",
   "metadata": {},
   "outputs": [
    {
     "data": {
      "image/png": "[encoded data removed]",
      "text/plain": [
       "<Figure size 618.75x540 with 12 Axes>"
      ]
     },
     "metadata": {
      "needs_background": "light"
     },
     "output_type": "display_data"
    }
   ],
   "source": [
    "sns.pairplot(df,hue='type')\n",
    "plt.show()"
   ]
  },
  {
   "cell_type": "markdown",
   "id": "fa42b073",
   "metadata": {},
   "source": [
    "#### Content added by month"
   ]
  },
  {
   "cell_type": "code",
   "execution_count": 58,
   "id": "5f528ece",
   "metadata": {},
   "outputs": [],
   "source": [
    "df['month_added'] = pd.to_datetime(df['date_added']).dt.month_name()\n"
   ]
  },
  {
   "cell_type": "code",
   "execution_count": 59,
   "id": "3267c44f",
   "metadata": {},
   "outputs": [],
   "source": [
    "month_order = ['January','February','March','April','May','June','July','August','September','October','November','December']\n"
   ]
  },
  {
   "cell_type": "code",
   "execution_count": 60,
   "id": "ff20e43d",
   "metadata": {},
   "outputs": [
    {
     "data": {
      "text/plain": [
       "January      650\n",
       "February     487\n",
       "March        623\n",
       "April        630\n",
       "May          500\n",
       "June         577\n",
       "July         646\n",
       "August       606\n",
       "September    598\n",
       "October      647\n",
       "November     628\n",
       "December     704\n",
       "Name: month_added, dtype: int64"
      ]
     },
     "execution_count": 60,
     "metadata": {},
     "output_type": "execute_result"
    }
   ],
   "source": [
    "monthly_counts = df['month_added'].value_counts().loc[month_order] \n",
    "monthly_counts"
   ]
  },
  {
   "cell_type": "code",
   "execution_count": 61,
   "id": "b08ca442",
   "metadata": {},
   "outputs": [],
   "source": [
    "# From the above data we can see that December followed by January are the month when maximum movies/TV shows are added, so most popular months for new content is December"
   ]
  },
  {
   "cell_type": "markdown",
   "id": "b8258323",
   "metadata": {},
   "source": [
    "#### Distribution of ratings\n"
   ]
  },
  {
   "cell_type": "code",
   "execution_count": 62,
   "id": "48c074b2",
   "metadata": {},
   "outputs": [
    {
     "data": {
      "text/plain": [
       "<bound method IndexOpsMixin.value_counts of 1       TV-MA\n",
       "4       TV-MA\n",
       "7       TV-MA\n",
       "8       TV-14\n",
       "9       PG-13\n",
       "        ...  \n",
       "8801    TV-MA\n",
       "8802        R\n",
       "8804        R\n",
       "8805       PG\n",
       "8806    TV-14\n",
       "Name: rating, Length: 7296, dtype: object>"
      ]
     },
     "execution_count": 62,
     "metadata": {},
     "output_type": "execute_result"
    }
   ],
   "source": [
    "rating_counts = df['rating'].value_counts\n",
    "rating_counts\n"
   ]
  },
  {
   "cell_type": "code",
   "execution_count": 63,
   "id": "5faf122b",
   "metadata": {},
   "outputs": [
    {
     "data": {
      "image/png": "[encoded data removed]",
      "text/plain": [
       "<Figure size 432x288 with 1 Axes>"
      ]
     },
     "metadata": {
      "needs_background": "light"
     },
     "output_type": "display_data"
    }
   ],
   "source": [
    "sns.countplot(x = 'rating',data = df )\n",
    "plt.xlabel('Rating')\n",
    "plt.ylabel('Count')\n",
    "plt.title('Distribution of ratings')\n",
    "plt.xticks(rotation=90,fontsize=12)\n",
    "plt.show()"
   ]
  },
  {
   "cell_type": "markdown",
   "id": "a4d5a096",
   "metadata": {},
   "source": [
    "Television MA has the highest count value, followed by TV 14 and least is UR"
   ]
  },
  {
   "cell_type": "code",
   "execution_count": 64,
   "id": "b086394f",
   "metadata": {},
   "outputs": [
    {
     "data": {
      "image/png": "[encoded data removed]",
      "text/plain": [
       "<Figure size 1080x576 with 1 Axes>"
      ]
     },
     "metadata": {
      "needs_background": "light"
     },
     "output_type": "display_data"
    }
   ],
   "source": [
    "plt.figure(figsize=(15,8))\n",
    "sns.countplot(x = 'rating',data = df, hue='type' )\n",
    "plt.xlabel('Rating')\n",
    "plt.ylabel('Count')\n",
    "plt.title('Distribution of ratings')\n",
    "plt.xticks(rotation=90,fontsize=12)\n",
    "plt.show()"
   ]
  },
  {
   "cell_type": "markdown",
   "id": "016d57cf",
   "metadata": {},
   "source": [
    "This plot clearly shows the ratings count for Movie and TV shows"
   ]
  },
  {
   "cell_type": "markdown",
   "id": "e64eee87",
   "metadata": {},
   "source": [
    "### Correlation heat map of Genre\n",
    "####Analysing genre can reveal relation between different types of content\n"
   ]
  },
  {
   "cell_type": "code",
   "execution_count": 65,
   "id": "13dc9326",
   "metadata": {},
   "outputs": [
    {
     "data": {
      "text/plain": [
       "array(['International TV Shows', 'TV Dramas', 'TV Mysteries',\n",
       "       'Romantic TV Shows', 'TV Comedies', 'Dramas', 'Independent Movies',\n",
       "       'International Movies', 'British TV Shows', 'Reality TV',\n",
       "       'Comedies', 'Crime TV Shows', 'Spanish-Language TV Shows',\n",
       "       'TV Action & Adventure', 'Romantic Movies', 'Docuseries',\n",
       "       'Horror Movies', 'Sci-Fi & Fantasy', 'Thrillers', \"Kids' TV\",\n",
       "       'Action & Adventure', 'TV Sci-Fi & Fantasy', 'Classic Movies',\n",
       "       'Anime Features', 'Anime Series', 'Children & Family Movies',\n",
       "       'Documentaries', 'Music & Musicals', 'Korean TV Shows',\n",
       "       'Teen TV Shows', 'Cult Movies', 'Faith & Spirituality',\n",
       "       'LGBTQ Movies', 'TV Horror', 'Stand-Up Comedy', 'TV Shows',\n",
       "       'Movies', 'Sports Movies', 'Classic & Cult TV', 'TV Thrillers',\n",
       "       'Science & Nature TV', 'Stand-Up Comedy & Talk Shows'],\n",
       "      dtype=object)"
      ]
     },
     "execution_count": 65,
     "metadata": {},
     "output_type": "execute_result"
    }
   ],
   "source": [
    "# unique genres\n",
    "genres = df['listed_in'].str.split(', ',expand = True).stack().unique()\n",
    "genres"
   ]
  },
  {
   "cell_type": "code",
   "execution_count": null,
   "id": "d6bb3a73",
   "metadata": {},
   "outputs": [],
   "source": [
    "sns.heatmap(genre_data.corr(), annot = True,cmap = 'coolwarm')"
   ]
  },
  {
   "cell_type": "markdown",
   "id": "87e6d17a",
   "metadata": {},
   "source": [
    "### Duration distribution of movies and TV shows"
   ]
  },
  {
   "cell_type": "markdown",
   "id": "39ef139f",
   "metadata": {},
   "source": [
    "plt.figure(figsize=(12,8))\n",
    "sns.boxplot( x ='type', y ='duration',data=df_movies)\n",
    "plt.xlabel('content type')\n",
    "plt.ylabel('duration')\n",
    "plt.title('Distribution of duration for movies')\n",
    "plt.xticks(rotation=90,fontsize=12)\n",
    "plt.show()"
   ]
  },
  {
   "cell_type": "markdown",
   "id": "7e32e2dc",
   "metadata": {},
   "source": [
    "Visual analysis of movie duartion using boxplot shows that movies are of reasonable duration except very few outliers"
   ]
  },
  {
   "cell_type": "code",
   "execution_count": null,
   "id": "58e022af",
   "metadata": {},
   "outputs": [],
   "source": [
    "#df_TV_shows['duration'] = df_TV_shows['duration'].str.extract('(\\d+)',expand=False).astype(int)"
   ]
  },
  {
   "cell_type": "code",
   "execution_count": null,
   "id": "bcbb5a39",
   "metadata": {},
   "outputs": [],
   "source": [
    "plt.figure(figsize=(12,8))\n",
    "sns.boxplot(data=df_TV_shows, x='type', y ='duration')\n",
    "plt.xlabel('content type')\n",
    "plt.ylabel('duration')\n",
    "plt.title('Distribution of duration for TV_shows')\n",
    "plt.xticks(rotation=90,fontsize=12)\n",
    "plt.show()"
   ]
  },
  {
   "cell_type": "markdown",
   "id": "a0870745",
   "metadata": {},
   "source": [
    "Box plot of Tv shows that most shows are of one to four seasons length except for few ouliers"
   ]
  },
  {
   "cell_type": "markdown",
   "id": "a97305d9",
   "metadata": {},
   "source": [
    "###Conclusion\n",
    "\n",
    "@Netflix data Analysis provides insights into the content,rating, cast and preferred choice of Netflix customers\n",
    "\n",
    "@Content on Netflix comprises of 70% of movies and remaining TV Shows\n",
    "\n",
    "@We can observe from the line plot that there is increase in addition of movies over the years starting from 2015\n",
    "*Maximum movies were added in 2019\n",
    "*Maximum TV_shows were added in 2020\n",
    " *We can also see that more movies were added than TV_shows\n",
    " *Coming to ratings, Television MA has the highest count value, followed by TV 14 and least is UR\n",
    "*From the above data we can see that December followed by January are the months when maximum movies/TV shows are added, so most *popular months for new content is December\n",
    "*Even the months of June and July also have high numbers so new release can be done during summer and winter holiday seasons.\n",
    "*The top most countries for Netflix customer base are USA, followed by India, so Netflix can design movies and shows targetting these countries as well as they can find out how to increase their customer likings in countries like France, Canada"
   ]
  },
  {
   "cell_type": "markdown",
   "id": "a0563947",
   "metadata": {},
   "source": []
  }
 ],
 "metadata": {
  "kernelspec": {
   "display_name": "Python 3 (ipykernel)",
   "language": "python",
   "name": "python3"
  },
  "language_info": {
   "codemirror_mode": {
    "name": "ipython",
    "version": 3
   },
   "file_extension": ".py",
   "mimetype": "text/x-python",
   "name": "python",
   "nbconvert_exporter": "python",
   "pygments_lexer": "ipython3",
   "version": "3.9.7"
  }
 },
 "nbformat": 4,
 "nbformat_minor": 5
}
